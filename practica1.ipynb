{
  "cells": [
    {
      "cell_type": "markdown",
      "metadata": {
        "id": "view-in-github",
        "colab_type": "text"
      },
      "source": [
        "<a href=\"https://colab.research.google.com/github/Vedroom/IA/blob/main/practica1.ipynb\" target=\"_parent\"><img src=\"https://colab.research.google.com/assets/colab-badge.svg\" alt=\"Open In Colab\"/></a>"
      ]
    },
    {
      "cell_type": "markdown",
      "source": [
        "#Práctica 1"
      ],
      "metadata": {
        "id": "re9H3rE1k_56"
      }
    },
    {
      "cell_type": "markdown",
      "source": [
        "### Ejercicio Python"
      ],
      "metadata": {
        "id": "ijDq0rxJllA6"
      }
    },
    {
      "cell_type": "code",
      "source": [
        "a=5\n",
        "b=7\n",
        "resultado=a+b\n",
        "\n",
        "print(resultado)"
      ],
      "metadata": {
        "id": "lAq7B4gPl46Q",
        "outputId": "1b872e09-e185-4359-f472-5a555a141e87",
        "colab": {
          "base_uri": "https://localhost:8080/"
        }
      },
      "execution_count": null,
      "outputs": [
        {
          "output_type": "stream",
          "name": "stdout",
          "text": [
            "12\n"
          ]
        }
      ]
    },
    {
      "cell_type": "markdown",
      "source": [
        "###Ejemplo de funcion"
      ],
      "metadata": {
        "id": "sFPHGoBWnl3t"
      }
    },
    {
      "cell_type": "code",
      "source": [
        "def suma(a,b):\n",
        "  resultado =a + b\n",
        "  return resultado\n",
        "\n",
        "print(suma(1,2))"
      ],
      "metadata": {
        "id": "Tzn9xPxansvk",
        "outputId": "17b3005c-4505-4343-f355-7d05a7a5ae41",
        "colab": {
          "base_uri": "https://localhost:8080/"
        }
      },
      "execution_count": null,
      "outputs": [
        {
          "output_type": "stream",
          "name": "stdout",
          "text": [
            "3\n"
          ]
        }
      ]
    }
  ],
  "metadata": {
    "colab": {
      "provenance": [],
      "include_colab_link": true
    },
    "kernelspec": {
      "display_name": "Python 3",
      "name": "python3"
    }
  },
  "nbformat": 4,
  "nbformat_minor": 0
}